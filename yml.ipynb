{
 "cells": [
  {
   "cell_type": "markdown",
   "metadata": {},
   "source": [
    "                    Alem Fitwi\n",
    "                    December 2021"
   ]
  },
  {
   "cell_type": "markdown",
   "metadata": {},
   "source": [
    "# YAML --> .yml"
   ]
  },
  {
   "cell_type": "markdown",
   "metadata": {},
   "source": [
    "### What is YAML?\n",
    "\n",
    "- YAML is a human-friendly data serialization language for all programming languages. YAML is most often used for **configuration** files, but it’s also used for data exchange.\n",
    "- YAML is easy to write and read for humans, even for non-programmers. At the same time, it’s also easy to parse YAML, especially with Python and the PyYAML library! Its human-friendliness and readability is the biggest advantage YAML has over other formats, like JSON and XML.\n",
    "- These are the most prominent features of YAML:\n",
    "    - You can use comments in YAML files\n",
    "    - You can store multiple documents in one YAML file, with the --- separator. A feature often used in Kubernetes definitions.\n",
    "    - It’s easy to read for humans\n",
    "    - It’s easy to parse for computers"
   ]
  },
  {
   "cell_type": "markdown",
   "metadata": {},
   "source": [
    "### Why use YAML with Python?\n",
    "\n",
    "- YAML is perfect for configuration files. As many large projects, like Docker and Kubernetes, use YAML to define deployments. It has a richer syntax than the often used alternative, .ini files, but is still nice on the eyes and simple to write and parse.\n",
    "- There are some downsides to using YAML with Python too, though:\n",
    "    - YAML is not part of the standard Python library, while XML and JSON are\n",
    "    - Its dependence on indentation is frustrating sometimes (however, Python developers are used to that, right?)\n",
    "    - It’s perhaps a bit too versatile for simple use-cases, like data exchange of simple objects.\n",
    "    - If you’re looking for a good data format for data exchange and storage, I recommend JSON, XML, or other more efficient formats like protocol buffers and Avro."
   ]
  },
  {
   "cell_type": "markdown",
   "metadata": {},
   "source": [
    "### Installing and importing PyYAML\n",
    "- There are multiple Python packages that can parse YAML data. However, PyYAML is the most prevalent and also the most complete implementation for parsing YAML. PyYAML is not part of the standard Python library, meaning you need to install it with Pip. Use the following command to install PyYAML, preferable in a virtual environment:\n",
    "\n",
    "        pip install pyyaml\n",
    "        pip3 install pyyaml\n",
    "        import yaml"
   ]
  },
  {
   "cell_type": "markdown",
   "metadata": {},
   "source": [
    "### Reading and parsing a YAML file with Python\n",
    "- Once we have the YAML parser imported, we can load a YAML file and parse it. YAML files usually carry the extension .yaml or .yml. Let’s work with the following example YAML file, called **config.yaml**:\n",
    "\n",
    "        rest:\n",
    "          url: \"https://example.org/primenumbers/v1\"\n",
    "          port: 8443\n",
    "        prime_numbers: [2, 3, 5, 7, 11, 13, 17, 19]\n",
    "- Loading, parsing, and using this configuration file is very similar to loading JSON with the Python JSON library. First, we open the file. Next, we parse it with the yaml.safe_load() function. Please note that I changed the output a little to make it more readable for you:"
   ]
  },
  {
   "cell_type": "code",
   "execution_count": 2,
   "metadata": {},
   "outputs": [],
   "source": [
    "import yaml\n",
    "\n",
    "with open('config.yml', 'r') as file:\n",
    "    prime_service = yaml.safe_load(file)"
   ]
  },
  {
   "cell_type": "code",
   "execution_count": 4,
   "metadata": {},
   "outputs": [
    {
     "data": {
      "text/plain": [
       "dict"
      ]
     },
     "execution_count": 4,
     "metadata": {},
     "output_type": "execute_result"
    }
   ],
   "source": [
    "type(prime_service)"
   ]
  },
  {
   "cell_type": "code",
   "execution_count": 6,
   "metadata": {},
   "outputs": [
    {
     "data": {
      "text/plain": [
       "['eric', 'justin', 'mary-kate']"
      ]
     },
     "execution_count": 6,
     "metadata": {},
     "output_type": "execute_result"
    }
   ],
   "source": [
    "names_yaml = \"\"\"\n",
    "- 'eric'\n",
    "- 'justin'\n",
    "- 'mary-kate'\n",
    "\"\"\"\n",
    "\n",
    "names = yaml.safe_load(names_yaml)\n",
    "names"
   ]
  },
  {
   "cell_type": "code",
   "execution_count": 9,
   "metadata": {},
   "outputs": [
    {
     "data": {
      "text/plain": [
       "{'a': 1, 'b': 2}"
      ]
     },
     "execution_count": 9,
     "metadata": {},
     "output_type": "execute_result"
    }
   ],
   "source": [
    "tmp = yaml.safe_load(\"{'a':1, 'b':2}\")\n",
    "tmp"
   ]
  },
  {
   "cell_type": "code",
   "execution_count": 10,
   "metadata": {},
   "outputs": [
    {
     "data": {
      "text/plain": [
       "dict"
      ]
     },
     "execution_count": 10,
     "metadata": {},
     "output_type": "execute_result"
    }
   ],
   "source": [
    "type(tmp)"
   ]
  },
  {
   "cell_type": "code",
   "execution_count": 5,
   "metadata": {},
   "outputs": [
    {
     "name": "stdout",
     "output_type": "stream",
     "text": [
      "- eric\n",
      "- justin\n",
      "- mary-kate\n",
      "\n"
     ]
    }
   ],
   "source": [
    "names_yaml = \"\"\"\n",
    "- 'eric'\n",
    "- 'justin'\n",
    "- 'mary-kate'\n",
    "\"\"\"\n",
    "\n",
    "names = yaml.safe_load(names_yaml)\n",
    "\n",
    "with open('names.yaml', 'w') as file:\n",
    "    yaml.dump(names, file)\n",
    "\n",
    "print(open('names.yaml').read())"
   ]
  },
  {
   "cell_type": "markdown",
   "metadata": {},
   "source": [
    "### Convert YAML to JSON using Python\n"
   ]
  },
  {
   "cell_type": "code",
   "execution_count": 11,
   "metadata": {},
   "outputs": [
    {
     "name": "stdout",
     "output_type": "stream",
     "text": [
      "{\n",
      "  \"rest\": null,\n",
      "  \"url\": \"https://example.org/primenumbers/v1\",\n",
      "  \"port\": 8443,\n",
      "  \"prime_numbers\": [\n",
      "    2,\n",
      "    3,\n",
      "    5,\n",
      "    7,\n",
      "    11,\n",
      "    13,\n",
      "    17,\n",
      "    19\n",
      "  ]\n",
      "}\n"
     ]
    }
   ],
   "source": [
    "import yaml\n",
    "import json\n",
    "\n",
    "with open('config.yml', 'r') as file:\n",
    "    configuration = yaml.safe_load(file)\n",
    "\n",
    "with open('config.json', 'w') as json_file:\n",
    "    json.dump(configuration, json_file)\n",
    "    \n",
    "output = json.dumps(json.load(open('config.json')), indent=2)\n",
    "print(output)"
   ]
  },
  {
   "cell_type": "code",
   "execution_count": 12,
   "metadata": {},
   "outputs": [],
   "source": [
    "import yaml\n",
    "import json\n",
    "with open('config.yml', 'r') as file:\n",
    "    configuration = yaml.safe_load(file)\n",
    "with open('config.json', 'w') as json_file:\n",
    "    json.dump(configuration, json_file)"
   ]
  },
  {
   "cell_type": "markdown",
   "metadata": {},
   "source": [
    "### Convert JSON to YAML"
   ]
  },
  {
   "cell_type": "code",
   "execution_count": 13,
   "metadata": {},
   "outputs": [
    {
     "name": "stdout",
     "output_type": "stream",
     "text": [
      "port: 8443\n",
      "prime_numbers:\n",
      "- 2\n",
      "- 3\n",
      "- 5\n",
      "- 7\n",
      "- 11\n",
      "- 13\n",
      "- 17\n",
      "- 19\n",
      "rest: null\n",
      "url: https://example.org/primenumbers/v1\n",
      "\n"
     ]
    }
   ],
   "source": [
    "import yaml\n",
    "import json\n",
    "\n",
    "with open('config.json', 'r') as file:\n",
    "    configuration = json.load(file)\n",
    "\n",
    "with open('config.yaml', 'w') as yaml_file:\n",
    "    yaml.dump(configuration, yaml_file)\n",
    "\n",
    "with open('config.yaml', 'r') as yaml_file:\n",
    "    print(yaml_file.read())"
   ]
  },
  {
   "cell_type": "markdown",
   "metadata": {},
   "source": [
    "### json, pickle, and yaml\n",
    "#### json"
   ]
  },
  {
   "cell_type": "code",
   "execution_count": 14,
   "metadata": {},
   "outputs": [
    {
     "data": {
      "text/plain": [
       "'{\"a\": 1, \"b\": 2}'"
      ]
     },
     "execution_count": 14,
     "metadata": {},
     "output_type": "execute_result"
    }
   ],
   "source": [
    "# Json\n",
    "import json\n",
    "\n",
    "dct = {'a':1, 'b':2}\n",
    "\n",
    "json.dumps(dct)"
   ]
  },
  {
   "cell_type": "code",
   "execution_count": 19,
   "metadata": {},
   "outputs": [],
   "source": [
    "with open('jconfig.json', 'w') as json_file:\n",
    "    json.dump(dct, json_file)"
   ]
  },
  {
   "cell_type": "code",
   "execution_count": 16,
   "metadata": {},
   "outputs": [
    {
     "data": {
      "text/plain": [
       "{'a': 1, 'b': 2}"
      ]
     },
     "execution_count": 16,
     "metadata": {},
     "output_type": "execute_result"
    }
   ],
   "source": [
    "json.loads(json.dumps(dct))"
   ]
  },
  {
   "cell_type": "code",
   "execution_count": 20,
   "metadata": {},
   "outputs": [
    {
     "data": {
      "text/plain": [
       "{'a': 1, 'b': 2}"
      ]
     },
     "execution_count": 20,
     "metadata": {},
     "output_type": "execute_result"
    }
   ],
   "source": [
    "with open('jconfig.json', 'r') as file:\n",
    "    dctr = json.load(file)\n",
    "    \n",
    "dctr"
   ]
  },
  {
   "cell_type": "markdown",
   "metadata": {},
   "source": [
    "#### pickle"
   ]
  },
  {
   "cell_type": "code",
   "execution_count": 23,
   "metadata": {},
   "outputs": [
    {
     "data": {
      "text/plain": [
       "{'a': 1, 'b': 2}"
      ]
     },
     "execution_count": 23,
     "metadata": {},
     "output_type": "execute_result"
    }
   ],
   "source": [
    "dct"
   ]
  },
  {
   "cell_type": "code",
   "execution_count": 22,
   "metadata": {},
   "outputs": [
    {
     "data": {
      "text/plain": [
       "b'\\x80\\x03}q\\x00(X\\x01\\x00\\x00\\x00aq\\x01K\\x01X\\x01\\x00\\x00\\x00bq\\x02K\\x02u.'"
      ]
     },
     "execution_count": 22,
     "metadata": {},
     "output_type": "execute_result"
    }
   ],
   "source": [
    "import pickle\n",
    "pickle.dumps(dct)"
   ]
  },
  {
   "cell_type": "code",
   "execution_count": 24,
   "metadata": {},
   "outputs": [
    {
     "data": {
      "text/plain": [
       "{'a': 1, 'b': 2}"
      ]
     },
     "execution_count": 24,
     "metadata": {},
     "output_type": "execute_result"
    }
   ],
   "source": [
    "pickle.loads(pickle.dumps(dct))"
   ]
  },
  {
   "cell_type": "code",
   "execution_count": 25,
   "metadata": {},
   "outputs": [],
   "source": [
    "with open('config.pickle', 'wb') as pfp:\n",
    "    pickle.dump(dct, pfp)"
   ]
  },
  {
   "cell_type": "code",
   "execution_count": 26,
   "metadata": {},
   "outputs": [
    {
     "data": {
      "text/plain": [
       "{'a': 1, 'b': 2}"
      ]
     },
     "execution_count": 26,
     "metadata": {},
     "output_type": "execute_result"
    }
   ],
   "source": [
    "with open('config.pickle', 'rb') as pfp:\n",
    "    dctp = pickle.load(pfp)\n",
    "dctp"
   ]
  },
  {
   "cell_type": "markdown",
   "metadata": {},
   "source": [
    "#### yml"
   ]
  },
  {
   "cell_type": "code",
   "execution_count": 28,
   "metadata": {},
   "outputs": [
    {
     "data": {
      "text/plain": [
       "'a: 1\\nb: 2\\n'"
      ]
     },
     "execution_count": 28,
     "metadata": {},
     "output_type": "execute_result"
    }
   ],
   "source": [
    "yaml.dump(dct)"
   ]
  },
  {
   "cell_type": "code",
   "execution_count": 29,
   "metadata": {},
   "outputs": [
    {
     "name": "stderr",
     "output_type": "stream",
     "text": [
      "/home/alem/anaconda3/lib/python3.7/site-packages/ipykernel_launcher.py:1: YAMLLoadWarning: calling yaml.load() without Loader=... is deprecated, as the default Loader is unsafe. Please read https://msg.pyyaml.org/load for full details.\n",
      "  \"\"\"Entry point for launching an IPython kernel.\n"
     ]
    },
    {
     "data": {
      "text/plain": [
       "{'a': 1, 'b': 2}"
      ]
     },
     "execution_count": 29,
     "metadata": {},
     "output_type": "execute_result"
    }
   ],
   "source": [
    "yaml.load(yaml.dump(dct))"
   ]
  },
  {
   "cell_type": "code",
   "execution_count": 30,
   "metadata": {},
   "outputs": [
    {
     "data": {
      "text/plain": [
       "{'a': 1, 'b': 2}"
      ]
     },
     "execution_count": 30,
     "metadata": {},
     "output_type": "execute_result"
    }
   ],
   "source": [
    "yaml.safe_load(yaml.dump(dct))"
   ]
  },
  {
   "cell_type": "code",
   "execution_count": 31,
   "metadata": {},
   "outputs": [],
   "source": [
    "with open('yconfig.yaml', 'w') as yfp:\n",
    "    yaml.dump(dct, yfp)"
   ]
  },
  {
   "cell_type": "code",
   "execution_count": 32,
   "metadata": {},
   "outputs": [
    {
     "data": {
      "text/plain": [
       "{'a': 1, 'b': 2}"
      ]
     },
     "execution_count": 32,
     "metadata": {},
     "output_type": "execute_result"
    }
   ],
   "source": [
    "with open('yconfig.yaml', 'r') as yfp:\n",
    "    yc = yaml.safe_load(yfp)\n",
    "yc"
   ]
  },
  {
   "cell_type": "markdown",
   "metadata": {},
   "source": [
    "                                ~END~"
   ]
  }
 ],
 "metadata": {
  "kernelspec": {
   "display_name": "Python 3",
   "language": "python",
   "name": "python3"
  },
  "language_info": {
   "codemirror_mode": {
    "name": "ipython",
    "version": 3
   },
   "file_extension": ".py",
   "mimetype": "text/x-python",
   "name": "python",
   "nbconvert_exporter": "python",
   "pygments_lexer": "ipython3",
   "version": "3.7.4"
  }
 },
 "nbformat": 4,
 "nbformat_minor": 4
}
